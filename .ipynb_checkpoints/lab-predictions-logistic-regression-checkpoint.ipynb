{
 "cells": [
  {
   "cell_type": "markdown",
   "id": "bbbb6986",
   "metadata": {},
   "source": [
    "### Instructions\n",
    "\n",
    "In this lab, you will be using the [Sakila](https://dev.mysql.com/doc/sakila/en/) database of movie rentals.\n",
    "\n",
    "In order to optimize our inventory, we would like to know which films will be rented next month and we are asked to create a model to predict it.\n",
    "\n",
    "1. Create a query or queries to extract the information you think may be relevant for building the prediction model. It should include some film features and some rental features.\n",
    "2. Read the data into a Pandas dataframe.\n",
    "3. Analyze extracted features and transform them. You may need to encode some categorical variables, or scale numerical variables.\n",
    "4. Create a query to get the list of films and a boolean indicating if it was rented last month. This would be our target variable.\n",
    "5. Create a logistic regression model to predict this variable from the cleaned data.\n",
    "6. Evaluate the results."
   ]
  },
  {
   "cell_type": "code",
   "execution_count": 1,
   "id": "222e86fa",
   "metadata": {},
   "outputs": [
    {
     "name": "stdout",
     "output_type": "stream",
     "text": [
      "········\n"
     ]
    }
   ],
   "source": [
    "import pymysql # Not for every version necessary\n",
    "from sqlalchemy import create_engine # To create connection with SQL Workbench\n",
    "import pandas as pd\n",
    "import getpass  # To get the password without showing the input\n",
    "from sklearn.preprocessing import StandardScaler # To normalise the numerical data\n",
    "import numpy as np\n",
    "import matplotlib.pyplot as plt\n",
    "from sklearn.model_selection import train_test_split\n",
    "from sklearn.linear_model import LogisticRegression\n",
    "import seaborn as sns # Build on matplot to create more compley plots\n",
    "\n",
    "%matplotlib inline\n",
    "password = getpass.getpass()\n",
    "connection_string = 'mysql+pymysql://root:' + password + '@localhost/sakila'\n",
    "engine = create_engine(connection_string)"
   ]
  },
  {
   "cell_type": "markdown",
   "id": "10733f91",
   "metadata": {},
   "source": [
    "#### 1. Create a query or queries to extract the information you think may be relevant for building the prediction model. It should include some film features and some rental features."
   ]
  },
  {
   "cell_type": "markdown",
   "id": "6a9a4187",
   "metadata": {},
   "source": [
    "#### 2. Read the data into a Pandas dataframe."
   ]
  },
  {
   "cell_type": "code",
   "execution_count": 7,
   "id": "aa42287f",
   "metadata": {},
   "outputs": [
    {
     "data": {
      "text/html": [
       "<div>\n",
       "<style scoped>\n",
       "    .dataframe tbody tr th:only-of-type {\n",
       "        vertical-align: middle;\n",
       "    }\n",
       "\n",
       "    .dataframe tbody tr th {\n",
       "        vertical-align: top;\n",
       "    }\n",
       "\n",
       "    .dataframe thead th {\n",
       "        text-align: right;\n",
       "    }\n",
       "</style>\n",
       "<table border=\"1\" class=\"dataframe\">\n",
       "  <thead>\n",
       "    <tr style=\"text-align: right;\">\n",
       "      <th></th>\n",
       "      <th>film_id</th>\n",
       "      <th>title</th>\n",
       "      <th>rental_duration</th>\n",
       "      <th>rental_rate</th>\n",
       "      <th>rating</th>\n",
       "      <th>category_id</th>\n",
       "      <th>rental_id</th>\n",
       "      <th>rental_date</th>\n",
       "      <th>return_date</th>\n",
       "    </tr>\n",
       "  </thead>\n",
       "  <tbody>\n",
       "    <tr>\n",
       "      <th>0</th>\n",
       "      <td>19</td>\n",
       "      <td>AMADEUS HOLY</td>\n",
       "      <td>6</td>\n",
       "      <td>0.99</td>\n",
       "      <td>PG</td>\n",
       "      <td>1</td>\n",
       "      <td>10895</td>\n",
       "      <td>2005-08-02 01:16:59</td>\n",
       "      <td>2005-08-03 02:41:59</td>\n",
       "    </tr>\n",
       "    <tr>\n",
       "      <th>1</th>\n",
       "      <td>19</td>\n",
       "      <td>AMADEUS HOLY</td>\n",
       "      <td>6</td>\n",
       "      <td>0.99</td>\n",
       "      <td>PG</td>\n",
       "      <td>1</td>\n",
       "      <td>12268</td>\n",
       "      <td>2005-08-18 04:26:54</td>\n",
       "      <td>2005-08-23 06:40:54</td>\n",
       "    </tr>\n",
       "    <tr>\n",
       "      <th>2</th>\n",
       "      <td>19</td>\n",
       "      <td>AMADEUS HOLY</td>\n",
       "      <td>6</td>\n",
       "      <td>0.99</td>\n",
       "      <td>PG</td>\n",
       "      <td>1</td>\n",
       "      <td>3150</td>\n",
       "      <td>2005-06-20 20:35:28</td>\n",
       "      <td>2005-06-26 01:01:28</td>\n",
       "    </tr>\n",
       "    <tr>\n",
       "      <th>3</th>\n",
       "      <td>19</td>\n",
       "      <td>AMADEUS HOLY</td>\n",
       "      <td>6</td>\n",
       "      <td>0.99</td>\n",
       "      <td>PG</td>\n",
       "      <td>1</td>\n",
       "      <td>5072</td>\n",
       "      <td>2005-07-09 05:01:58</td>\n",
       "      <td>2005-07-18 08:17:58</td>\n",
       "    </tr>\n",
       "    <tr>\n",
       "      <th>4</th>\n",
       "      <td>19</td>\n",
       "      <td>AMADEUS HOLY</td>\n",
       "      <td>6</td>\n",
       "      <td>0.99</td>\n",
       "      <td>PG</td>\n",
       "      <td>1</td>\n",
       "      <td>9080</td>\n",
       "      <td>2005-07-30 08:02:39</td>\n",
       "      <td>2005-08-06 12:02:39</td>\n",
       "    </tr>\n",
       "  </tbody>\n",
       "</table>\n",
       "</div>"
      ],
      "text/plain": [
       "   film_id         title  rental_duration  rental_rate rating  category_id  \\\n",
       "0       19  AMADEUS HOLY                6         0.99     PG            1   \n",
       "1       19  AMADEUS HOLY                6         0.99     PG            1   \n",
       "2       19  AMADEUS HOLY                6         0.99     PG            1   \n",
       "3       19  AMADEUS HOLY                6         0.99     PG            1   \n",
       "4       19  AMADEUS HOLY                6         0.99     PG            1   \n",
       "\n",
       "   rental_id         rental_date         return_date  \n",
       "0      10895 2005-08-02 01:16:59 2005-08-03 02:41:59  \n",
       "1      12268 2005-08-18 04:26:54 2005-08-23 06:40:54  \n",
       "2       3150 2005-06-20 20:35:28 2005-06-26 01:01:28  \n",
       "3       5072 2005-07-09 05:01:58 2005-07-18 08:17:58  \n",
       "4       9080 2005-07-30 08:02:39 2005-08-06 12:02:39  "
      ]
     },
     "execution_count": 7,
     "metadata": {},
     "output_type": "execute_result"
    }
   ],
   "source": [
    "query = \"\"\"SELECT f.film_id, f.title, f.rental_duration, f.rental_rate, f.rating, fc.category_id, r.rental_id, r.rental_date, r.return_date\n",
    "FROM film f\n",
    "JOIN film_category fc \n",
    "ON f.film_id = fc.film_id\n",
    "JOIN inventory i \n",
    "ON f.film_id = i.film_id\n",
    "JOIN rental r \n",
    "ON i.inventory_id = r.inventory_id;\"\"\"\n",
    "\n",
    "data = pd.read_sql_query(query, engine)\n",
    "data.head()"
   ]
  },
  {
   "cell_type": "markdown",
   "id": "daf637bf",
   "metadata": {},
   "source": [
    "#### 3. Analyze extracted features and transform them. You may need to encode some categorical variables, or scale numerical variables."
   ]
  },
  {
   "cell_type": "code",
   "execution_count": 8,
   "id": "7d87e79c",
   "metadata": {},
   "outputs": [
    {
     "data": {
      "text/plain": [
       "array([0.99, 4.99, 2.99])"
      ]
     },
     "execution_count": 8,
     "metadata": {},
     "output_type": "execute_result"
    }
   ],
   "source": [
    "data.rental_rate.unique()"
   ]
  },
  {
   "cell_type": "code",
   "execution_count": 9,
   "id": "b6560caa",
   "metadata": {},
   "outputs": [
    {
     "data": {
      "text/plain": [
       "array([6, 3, 5, 7, 4])"
      ]
     },
     "execution_count": 9,
     "metadata": {},
     "output_type": "execute_result"
    }
   ],
   "source": [
    "data.rental_duration.unique()"
   ]
  },
  {
   "cell_type": "code",
   "execution_count": 10,
   "id": "afc61e18",
   "metadata": {},
   "outputs": [
    {
     "name": "stdout",
     "output_type": "stream",
     "text": [
      "<class 'pandas.core.frame.DataFrame'>\n",
      "RangeIndex: 16044 entries, 0 to 16043\n",
      "Data columns (total 9 columns):\n",
      " #   Column           Non-Null Count  Dtype         \n",
      "---  ------           --------------  -----         \n",
      " 0   film_id          16044 non-null  int64         \n",
      " 1   title            16044 non-null  object        \n",
      " 2   rental_duration  16044 non-null  int64         \n",
      " 3   rental_rate      16044 non-null  float64       \n",
      " 4   rating           16044 non-null  object        \n",
      " 5   category_id      16044 non-null  int64         \n",
      " 6   rental_id        16044 non-null  int64         \n",
      " 7   rental_date      16044 non-null  datetime64[ns]\n",
      " 8   return_date      15861 non-null  datetime64[ns]\n",
      "dtypes: datetime64[ns](2), float64(1), int64(4), object(2)\n",
      "memory usage: 1.1+ MB\n"
     ]
    }
   ],
   "source": [
    "data.info()"
   ]
  },
  {
   "cell_type": "code",
   "execution_count": 11,
   "id": "1a6e40d1",
   "metadata": {},
   "outputs": [
    {
     "data": {
      "text/plain": [
       "film_id              0\n",
       "title                0\n",
       "rental_duration      0\n",
       "rental_rate          0\n",
       "rating               0\n",
       "category_id          0\n",
       "rental_id            0\n",
       "rental_date          0\n",
       "return_date        183\n",
       "dtype: int64"
      ]
     },
     "execution_count": 11,
     "metadata": {},
     "output_type": "execute_result"
    }
   ],
   "source": [
    "data.isna().sum()"
   ]
  },
  {
   "cell_type": "markdown",
   "id": "6609fb85",
   "metadata": {},
   "source": [
    "##### I preprocess the 'rental_date' column to extract the month and year information."
   ]
  },
  {
   "cell_type": "code",
   "execution_count": 13,
   "id": "45bb70c6",
   "metadata": {},
   "outputs": [],
   "source": [
    "data['rental_month'] = data['rental_date'].dt.month\n",
    "data['rental_year'] = data['rental_date'].dt.year"
   ]
  },
  {
   "cell_type": "markdown",
   "id": "ecb94a1b",
   "metadata": {},
   "source": [
    "##### I want to keep the rows with nulls in return_date, since the respective copy of a film cannot be rented if it has not been returned. Instead of deleting I extract the month and year information from the 'return_date' column, and calculate the rental duration based on the rental date and duration to fill the nulls in return date. "
   ]
  },
  {
   "cell_type": "code",
   "execution_count": 14,
   "id": "78690133",
   "metadata": {},
   "outputs": [],
   "source": [
    "# First, I calculate the expected return date based on the rental date and duration\n",
    "data['expected_return_date'] = data['rental_date'] + pd.to_timedelta(data['rental_duration'], unit='D')\n",
    "\n",
    "# I fill in null values in the `return_date` column with the expected return date\n",
    "data['return_date'] = np.where(data['return_date'].isnull(), data['expected_return_date'], data['return_date'])\n",
    "\n",
    "# The I extract the month and year information from the `return_date` column\n",
    "data['return_month'] = data['return_date'].dt.month\n",
    "data['return_year'] = data['return_date'].dt.year"
   ]
  },
  {
   "cell_type": "code",
   "execution_count": 24,
   "id": "fff9ddc5",
   "metadata": {},
   "outputs": [
    {
     "data": {
      "text/plain": [
       "film_id                 0\n",
       "title                   0\n",
       "rental_duration         0\n",
       "rental_rate             0\n",
       "rental_id               0\n",
       "rental_date             0\n",
       "return_date             0\n",
       "rental_month            0\n",
       "rental_year             0\n",
       "expected_return_date    0\n",
       "return_month            0\n",
       "return_year             0\n",
       "num_rentals_total       0\n",
       "category_1              0\n",
       "category_2              0\n",
       "category_3              0\n",
       "category_4              0\n",
       "category_5              0\n",
       "category_6              0\n",
       "category_7              0\n",
       "category_8              0\n",
       "category_9              0\n",
       "category_10             0\n",
       "category_11             0\n",
       "category_12             0\n",
       "category_13             0\n",
       "category_14             0\n",
       "category_15             0\n",
       "category_16             0\n",
       "rating_G                0\n",
       "rating_NC-17            0\n",
       "rating_PG               0\n",
       "rating_PG-13            0\n",
       "rating_R                0\n",
       "dtype: int64"
      ]
     },
     "execution_count": 24,
     "metadata": {},
     "output_type": "execute_result"
    }
   ],
   "source": [
    "data.isna().sum()"
   ]
  },
  {
   "cell_type": "markdown",
   "id": "5ceee762",
   "metadata": {},
   "source": [
    "##### I add a new column 'num_rentals_total' which features the sum of rentals for each film to measure popularity of films."
   ]
  },
  {
   "cell_type": "code",
   "execution_count": 16,
   "id": "6e57fbe4",
   "metadata": {},
   "outputs": [],
   "source": [
    "# I group the data by film_id and count the number of rentals.\n",
    "num_rentals = data.groupby('film_id')['rental_id'].transform('count')\n",
    "\n",
    "# I add the num_rentals column.\n",
    "data['num_rentals_total'] = num_rentals"
   ]
  },
  {
   "cell_type": "code",
   "execution_count": 17,
   "id": "97d58f3b",
   "metadata": {},
   "outputs": [
    {
     "name": "stderr",
     "output_type": "stream",
     "text": [
      "/Users/ingaeumann/opt/anaconda3/lib/python3.9/site-packages/seaborn/distributions.py:2619: FutureWarning: `distplot` is a deprecated function and will be removed in a future version. Please adapt your code to use either `displot` (a figure-level function with similar flexibility) or `histplot` (an axes-level function for histograms).\n",
      "  warnings.warn(msg, FutureWarning)\n"
     ]
    },
    {
     "data": {
      "image/png": "[encoded data removed]",
      "text/plain": [
       "<Figure size 640x480 with 1 Axes>"
      ]
     },
     "metadata": {},
     "output_type": "display_data"
    }
   ],
   "source": [
    "sns.distplot(data['num_rentals_total'])\n",
    "\n",
    "plt.show()"
   ]
  },
  {
   "cell_type": "code",
   "execution_count": 18,
   "id": "0518a8bc",
   "metadata": {},
   "outputs": [
    {
     "name": "stderr",
     "output_type": "stream",
     "text": [
      "/Users/ingaeumann/opt/anaconda3/lib/python3.9/site-packages/seaborn/distributions.py:2619: FutureWarning: `distplot` is a deprecated function and will be removed in a future version. Please adapt your code to use either `displot` (a figure-level function with similar flexibility) or `histplot` (an axes-level function for histograms).\n",
      "  warnings.warn(msg, FutureWarning)\n"
     ]
    },
    {
     "data": {
      "image/png": "[encoded data removed]",
      "text/plain": [
       "<Figure size 640x480 with 1 Axes>"
      ]
     },
     "metadata": {},
     "output_type": "display_data"
    }
   ],
   "source": [
    "sns.distplot(data['rental_duration'])\n",
    "\n",
    "plt.show()"
   ]
  },
  {
   "cell_type": "markdown",
   "id": "a730e2a0",
   "metadata": {},
   "source": [
    "##### I encode the 'category_id'  and the 'rating' column for proper usage."
   ]
  },
  {
   "cell_type": "code",
   "execution_count": 20,
   "id": "d3673782",
   "metadata": {},
   "outputs": [],
   "source": [
    "category_id_encoded = pd.get_dummies(data['category_id'], prefix='category')\n",
    "\n",
    "# I add the one-hot encoded columns to the dataframe\n",
    "data = pd.concat([data, category_id_encoded], axis=1)\n",
    "\n",
    "# And I drop the original category_id column\n",
    "data = data.drop(['category_id'], axis=1)"
   ]
  },
  {
   "cell_type": "code",
   "execution_count": 22,
   "id": "6256fa24",
   "metadata": {},
   "outputs": [],
   "source": [
    "rating_encoded = pd.get_dummies(data['rating'], prefix='rating')\n",
    "\n",
    "data = pd.concat([data, rating_encoded], axis=1)\n",
    "\n",
    "data = data.drop('rating', axis=1)"
   ]
  },
  {
   "cell_type": "code",
   "execution_count": 23,
   "id": "f0ff95e8",
   "metadata": {},
   "outputs": [
    {
     "data": {
      "text/plain": [
       "Index(['film_id', 'title', 'rental_duration', 'rental_rate', 'rental_id',\n",
       "       'rental_date', 'return_date', 'rental_month', 'rental_year',\n",
       "       'expected_return_date', 'return_month', 'return_year',\n",
       "       'num_rentals_total', 'category_1', 'category_2', 'category_3',\n",
       "       'category_4', 'category_5', 'category_6', 'category_7', 'category_8',\n",
       "       'category_9', 'category_10', 'category_11', 'category_12',\n",
       "       'category_13', 'category_14', 'category_15', 'category_16', 'rating_G',\n",
       "       'rating_NC-17', 'rating_PG', 'rating_PG-13', 'rating_R'],\n",
       "      dtype='object')"
      ]
     },
     "execution_count": 23,
     "metadata": {},
     "output_type": "execute_result"
    }
   ],
   "source": [
    "data.columns.unique()"
   ]
  },
  {
   "cell_type": "markdown",
   "id": "8d5484a2",
   "metadata": {},
   "source": [
    "#### 4. Create a query to get the list of films and a boolean indicating if it was rented last month. This would be our target variable."
   ]
  },
  {
   "cell_type": "code",
   "execution_count": 25,
   "id": "beff89c0",
   "metadata": {},
   "outputs": [],
   "source": [
    "from datetime import datetime, timedelta\n",
    "\n",
    "# First I have to find the last return date.\n",
    "last_return_date = data['return_date'].max()\n",
    "\n",
    "# I define the previous month as the month before the last return date.\n",
    "prev_month = last_return_date.replace(day=1) - timedelta(days=1)\n",
    "\n",
    "# Then I  use a lambda function to check if a rental occurred in the previous month.\n",
    "check_prev_month = lambda x: 1 if x >= prev_month else 0\n",
    "\n",
    "# And I apply the lambda function to the return_date column and store the result in a new column.\n",
    "data['rented_last_month'] = data['return_date'].apply(check_prev_month)"
   ]
  },
  {
   "cell_type": "code",
   "execution_count": 26,
   "id": "391945e0",
   "metadata": {},
   "outputs": [
    {
     "data": {
      "text/plain": [
       "array([0, 1])"
      ]
     },
     "execution_count": 26,
     "metadata": {},
     "output_type": "execute_result"
    }
   ],
   "source": [
    "data.rented_last_month.unique()"
   ]
  },
  {
   "cell_type": "markdown",
   "id": "7d6cada7",
   "metadata": {},
   "source": [
    "##### I drop the columns in datetime format since I have converted them into individual columns in int format. Also the column 'rental_id' since I have the 'num_rentals_total' now. And the column 'title' since as an object it'll give issues when fitting the model."
   ]
  },
  {
   "cell_type": "code",
   "execution_count": 27,
   "id": "20684758",
   "metadata": {},
   "outputs": [],
   "source": [
    "data = data.drop(columns=['rental_date', 'return_date', 'expected_return_date', 'rental_id', 'title'])"
   ]
  },
  {
   "cell_type": "code",
   "execution_count": 29,
   "id": "7b9438c5",
   "metadata": {},
   "outputs": [
    {
     "data": {
      "text/plain": [
       "Index(['film_id', 'rental_duration', 'rental_rate', 'rental_month',\n",
       "       'rental_year', 'return_month', 'return_year', 'num_rentals_total',\n",
       "       'category_1', 'category_2', 'category_3', 'category_4', 'category_5',\n",
       "       'category_6', 'category_7', 'category_8', 'category_9', 'category_10',\n",
       "       'category_11', 'category_12', 'category_13', 'category_14',\n",
       "       'category_15', 'category_16', 'rating_G', 'rating_NC-17', 'rating_PG',\n",
       "       'rating_PG-13', 'rating_R', 'rented_last_month'],\n",
       "      dtype='object')"
      ]
     },
     "execution_count": 29,
     "metadata": {},
     "output_type": "execute_result"
    }
   ],
   "source": [
    "data.columns.unique()"
   ]
  },
  {
   "cell_type": "markdown",
   "id": "a1314ad2",
   "metadata": {},
   "source": [
    "#### 5. Create a logistic regression model to predict this variable from the cleaned data."
   ]
  },
  {
   "cell_type": "code",
   "execution_count": 30,
   "id": "e563f556",
   "metadata": {},
   "outputs": [],
   "source": [
    "y = data['rented_last_month'] \n",
    "X = data.drop('rented_last_month', axis=1)"
   ]
  },
  {
   "cell_type": "code",
   "execution_count": 31,
   "id": "f6b9a073",
   "metadata": {},
   "outputs": [],
   "source": [
    "# First I split the data into training and testing sets.\n",
    "X_train, X_test, y_train, y_test = train_test_split(X, y, test_size=0.25, random_state=42)"
   ]
  },
  {
   "cell_type": "code",
   "execution_count": 66,
   "id": "ecba9398",
   "metadata": {},
   "outputs": [
    {
     "data": {
      "text/plain": [
       "LogisticRegression()"
      ]
     },
     "execution_count": 66,
     "metadata": {},
     "output_type": "execute_result"
    }
   ],
   "source": [
    "model = LogisticRegression()\n",
    "model.fit(X_train, y_train)"
   ]
  },
  {
   "cell_type": "code",
   "execution_count": 72,
   "id": "a9341132",
   "metadata": {},
   "outputs": [
    {
     "name": "stdout",
     "output_type": "stream",
     "text": [
      "       film_id\n",
      "9538       281\n",
      "2021       820\n",
      "15399      233\n",
      "13212      151\n",
      "7874       603\n",
      "280        229\n",
      "8587       376\n",
      "15184      902\n",
      "8629       399\n",
      "3098       873\n",
      "15774      648\n",
      "9192       792\n",
      "9436       200\n",
      "12291      270\n",
      "10187      861\n",
      "7969       639\n",
      "10275      956\n",
      "2140       886\n",
      "14184      254\n",
      "14812      733\n",
      "637        574\n",
      "7652       391\n",
      "12615      677\n",
      "3316       131\n",
      "9522       264\n",
      "4295       178\n",
      "11059      870\n",
      "4506       388\n",
      "872        823\n",
      "119        105\n",
      "1934       696\n",
      "7302        53\n",
      "1457       300\n",
      "15568      405\n",
      "15614      451\n",
      "676        586\n",
      "10379       13\n",
      "11184       17\n",
      "6253       146\n",
      "14389      420\n",
      "1513       326\n",
      "245        205\n",
      "11377      220\n",
      "5379       219\n",
      "499        375\n"
     ]
    }
   ],
   "source": [
    "predictions = model.predict(X_test)\n",
    "# Now I want to list the films that have a high probability to be rented in the coming month. \n",
    "predicted_rentals = data.iloc[X_test.index][predictions > 0.5][['film_id']]\n",
    "print(predicted_rentals)"
   ]
  },
  {
   "cell_type": "markdown",
   "id": "ec8ffb98",
   "metadata": {},
   "source": [
    "#### 6. Evaluate the results."
   ]
  },
  {
   "cell_type": "code",
   "execution_count": 69,
   "id": "fdf95ce2",
   "metadata": {},
   "outputs": [
    {
     "data": {
      "text/plain": [
       "0    3966\n",
       "1      45\n",
       "dtype: int64"
      ]
     },
     "execution_count": 69,
     "metadata": {},
     "output_type": "execute_result"
    }
   ],
   "source": [
    "pd.Series(predictions).value_counts()"
   ]
  },
  {
   "cell_type": "code",
   "execution_count": 70,
   "id": "d374cd15",
   "metadata": {},
   "outputs": [
    {
     "data": {
      "text/plain": [
       "0    3966\n",
       "1      45\n",
       "Name: rented_last_month, dtype: int64"
      ]
     },
     "execution_count": 70,
     "metadata": {},
     "output_type": "execute_result"
    }
   ],
   "source": [
    "y_test.value_counts()"
   ]
  },
  {
   "cell_type": "code",
   "execution_count": 71,
   "id": "c93682d6",
   "metadata": {},
   "outputs": [
    {
     "data": {
      "text/plain": [
       "1.0"
      ]
     },
     "execution_count": 71,
     "metadata": {},
     "output_type": "execute_result"
    }
   ],
   "source": [
    "model.score(X_test, y_test)"
   ]
  },
  {
   "cell_type": "markdown",
   "id": "7cafadc6",
   "metadata": {},
   "source": [
    "##### The model seems to predict perfectly. But I think it might be unbalanced since there were rentals only in half the month of February. I also tried with August 2005 which is the previous month with rentals, but during that month every film was rented hence the model was even more unbalanced."
   ]
  }
 ],
 "metadata": {
  "kernelspec": {
   "display_name": "Python 3 (ipykernel)",
   "language": "python",
   "name": "python3"
  },
  "language_info": {
   "codemirror_mode": {
    "name": "ipython",
    "version": 3
   },
   "file_extension": ".py",
   "mimetype": "text/x-python",
   "name": "python",
   "nbconvert_exporter": "python",
   "pygments_lexer": "ipython3",
   "version": "3.9.13"
  }
 },
 "nbformat": 4,
 "nbformat_minor": 5
}
